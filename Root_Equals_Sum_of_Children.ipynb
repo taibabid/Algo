{
  "nbformat": 4,
  "nbformat_minor": 0,
  "metadata": {
    "colab": {
      "name": "Root_Equals_Sum_of_Children.ipynb",
      "provenance": []
    },
    "kernelspec": {
      "name": "python3",
      "display_name": "Python 3"
    },
    "language_info": {
      "name": "python"
    }
  },
  "cells": [
    {
      "cell_type": "code",
      "execution_count": 10,
      "metadata": {
        "id": "adjtQn5SHdpz"
      },
      "outputs": [],
      "source": [
        "def checkTree(root):\n",
        "        return (root[0] == root[1] + root[2])"
      ]
    },
    {
      "cell_type": "markdown",
      "source": [
        "Example 1:"
      ],
      "metadata": {
        "id": "4gmQcnUBJo8W"
      }
    },
    {
      "cell_type": "code",
      "source": [
        "root = [10,4,6]\n",
        "#expected output: True\n",
        "checkTree(root)"
      ],
      "metadata": {
        "colab": {
          "base_uri": "https://localhost:8080/"
        },
        "id": "wmU6hLfCJEhi",
        "outputId": "5f5f6bc7-e5c2-4e4e-b4af-857421c59687"
      },
      "execution_count": 11,
      "outputs": [
        {
          "output_type": "execute_result",
          "data": {
            "text/plain": [
              "True"
            ]
          },
          "metadata": {},
          "execution_count": 11
        }
      ]
    },
    {
      "cell_type": "markdown",
      "source": [
        "Example 1:"
      ],
      "metadata": {
        "id": "tzlfkY1eJsgU"
      }
    },
    {
      "cell_type": "code",
      "source": [
        "root = [5,3,1]\n",
        "#expected output: False\n",
        "checkTree(root)"
      ],
      "metadata": {
        "colab": {
          "base_uri": "https://localhost:8080/"
        },
        "id": "KwGg8hxnJFn5",
        "outputId": "b75b4e77-f6f5-43f2-d563-9043cc05503b"
      },
      "execution_count": 12,
      "outputs": [
        {
          "output_type": "execute_result",
          "data": {
            "text/plain": [
              "False"
            ]
          },
          "metadata": {},
          "execution_count": 12
        }
      ]
    }
  ]
}